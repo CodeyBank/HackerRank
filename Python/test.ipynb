{
 "cells": [
  {
   "cell_type": "code",
   "execution_count": 1,
   "metadata": {},
   "outputs": [
    {
     "name": "stdout",
     "output_type": "stream",
     "text": [
      "helloworld\n"
     ]
    }
   ],
   "source": [
    "print(\"helloworld\")"
   ]
  },
  {
   "cell_type": "code",
   "execution_count": 38,
   "metadata": {},
   "outputs": [
    {
     "name": "stdout",
     "output_type": "stream",
     "text": [
      "1 9 17 25 33 41 49 \n",
      "2 10 18 26 34 42 50 \n",
      "3 11 19 27 35 43 51 \n",
      "4 12 20 28 36 44 52 \n",
      "5 13 21 29 37 45 53 \n",
      "6 14 22 30 38 46 54 \n",
      "7 15 23 31 39 47 \n",
      "8 16 24 32 40 48 \n",
      "\n"
     ]
    }
   ],
   "source": [
    "def get_index(row, col, n_cols):\n",
    "    return col + ((n_cols) * (row-1))\n",
    "\n",
    "rows = 7\n",
    "cols = 8\n",
    "string = \"\"\n",
    "\n",
    "for col in range(1, cols+1):\n",
    "    for row in range(1, rows+1):\n",
    "        index = get_index(row, col, cols)\n",
    "        if (index > 54):\n",
    "            break\n",
    "        string += str(get_index(row, col, cols)) + \" \"\n",
    "    string += \"\\n\"\n",
    "\n",
    "print(string)"
   ]
  },
  {
   "cell_type": "code",
   "execution_count": 42,
   "metadata": {},
   "outputs": [
    {
     "data": {
      "text/plain": [
       "<function __main__.<lambda>(x)>"
      ]
     },
     "execution_count": 42,
     "metadata": {},
     "output_type": "execute_result"
    }
   ],
   "source": [
    "a = list()\n",
    "\n",
    "\n"
   ]
  }
 ],
 "metadata": {
  "kernelspec": {
   "display_name": "Python 3",
   "language": "python",
   "name": "python3"
  },
  "language_info": {
   "codemirror_mode": {
    "name": "ipython",
    "version": 3
   },
   "file_extension": ".py",
   "mimetype": "text/x-python",
   "name": "python",
   "nbconvert_exporter": "python",
   "pygments_lexer": "ipython3",
   "version": "3.11.1"
  },
  "orig_nbformat": 4
 },
 "nbformat": 4,
 "nbformat_minor": 2
}
